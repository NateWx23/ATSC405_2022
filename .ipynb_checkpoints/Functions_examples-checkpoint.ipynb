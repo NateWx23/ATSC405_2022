{
 "cells": [
  {
   "cell_type": "markdown",
   "id": "de0e211f-72aa-451b-8bcd-9b883866e332",
   "metadata": {},
   "source": [
    "#  Introduction and Review of Python Functions <br> ATSC 405: Numerical Methods in Meteorology <br> University of North Dakota Atmospheric Sciences\n",
    "# Written by: Aaron Scott (aaron.scott@und.edu) <br> Updated: 01 September 2022"
   ]
  },
  {
   "cell_type": "markdown",
   "id": "a56eae3e-a955-43e6-ab33-58df2882965b",
   "metadata": {},
   "source": [
    "First, let's start at the end of the \"Loops examples\" notebook. Below is the solution to reading in the text file and converting the temperatures from Fahrenheit to Celsius."
   ]
  },
  {
   "cell_type": "code",
   "execution_count": 1,
   "id": "ee36ed7d-4487-4899-b3ad-8172b1323e83",
   "metadata": {},
   "outputs": [],
   "source": [
    "day1 = []\n",
    "day2 = []\n",
    "day3 = []\n",
    "day4 = []\n",
    "day5 = []\n",
    "\n",
    "with open('./asos_temp.txt') as f:\n",
    "    for i,line in enumerate(f):\n",
    "        if i == 0:\n",
    "            pass\n",
    "        else:\n",
    "            line = line.split()\n",
    "            day1.append(float(line[0]))\n",
    "            day2.append(float(line[1]))\n",
    "            day3.append(float(line[2]))\n",
    "            day4.append(float(line[3]))\n",
    "            day5.append(float(line[4]))\n"
   ]
  },
  {
   "cell_type": "markdown",
   "id": "40fa8ffd-aed6-496d-a39b-46a1ef042646",
   "metadata": {},
   "source": [
    "Use a for loop to convert the temperatures from degrees Fahrenheit to Celsius.  "
   ]
  },
  {
   "cell_type": "code",
   "execution_count": 2,
   "id": "8a96fdb8-e583-4766-9186-0e7205da9c99",
   "metadata": {},
   "outputs": [],
   "source": [
    "day1_C = []\n",
    "\n",
    "for temp in day1:\n",
    "    conversion = (temp - 32)*(5/9)\n",
    "    day1_C.append(conversion)\n",
    "    \n",
    "    "
   ]
  },
  {
   "cell_type": "markdown",
   "id": "4e0ea16e-64dc-4e59-94d3-e07e7f5ecb06",
   "metadata": {},
   "source": [
    "But, what if we wanted to convert multiple lists instead of just one? The way it is written, we would have to reuse a bunch of the same code over and over! **This is not efficient and when you are finding yourself replicating code a lot the alarm bells should start ringing!** You should write a function for code that you are replicating so that it can be used once. In addition, if you make a change to the code, you will only have to change it in one spot versus everywhere you replicated the same code!! Below is example of what we **don't** want to do!"
   ]
  },
  {
   "cell_type": "code",
   "execution_count": 3,
   "id": "f92780fd-b237-4dff-8bfc-e3fdacd5ee6f",
   "metadata": {},
   "outputs": [],
   "source": [
    "day1_C = []\n",
    "day2_C = []\n",
    "day3_C = []\n",
    "\n",
    "\n",
    "for temp in day1:\n",
    "    conversion = (temp - 32)*(5/9)\n",
    "    day1_C.append(conversion)\n",
    "    \n",
    "\n",
    "for temp in day2:\n",
    "    conversion = (temp - 32)*(5/9)\n",
    "    day2_C.append(conversion)\n",
    "    \n",
    "    \n",
    "for temp in day3:\n",
    "    conversion = (temp - 32)*(5/9)\n",
    "    day3_C.append(conversion)"
   ]
  },
  {
   "cell_type": "markdown",
   "id": "039f406b-3fd4-48b5-b3de-4f36f136d878",
   "metadata": {},
   "source": [
    "Now, Let's look at the basics of a Python function before we start looking at the problem above."
   ]
  },
  {
   "cell_type": "code",
   "execution_count": 4,
   "id": "099e0ff3-1b42-43bb-922c-3a85cd99fe07",
   "metadata": {},
   "outputs": [],
   "source": [
    "def my_func(x,y,val=100):\n",
    "    \n",
    "    z = x*x*x\n",
    "    d = z*y\n",
    "    print(z)\n",
    "    print(d)\n",
    "    print(A)\n",
    "    \n",
    "    return z"
   ]
  },
  {
   "cell_type": "code",
   "execution_count": 5,
   "id": "5c285810-c50b-4b50-8342-def2f3c2c593",
   "metadata": {},
   "outputs": [
    {
     "name": "stdout",
     "output_type": "stream",
     "text": [
      "125\n",
      "250\n",
      "hi\n"
     ]
    }
   ],
   "source": [
    "A = 'hi'\n",
    "return_val = my_func(5,2)"
   ]
  },
  {
   "cell_type": "markdown",
   "id": "6a4d63ba-c61a-4b55-8873-4d904f6da5a4",
   "metadata": {},
   "source": [
    "Notice that the variable 'A' was printed from inside the function and worked. Why? Because 'A' is a global variable and can be seen inside the function even though it was created outside the function."
   ]
  },
  {
   "cell_type": "code",
   "execution_count": 6,
   "id": "b4ff14e0-47f5-46ad-861b-d961b70bb919",
   "metadata": {},
   "outputs": [
    {
     "ename": "NameError",
     "evalue": "name 'z' is not defined",
     "output_type": "error",
     "traceback": [
      "\u001b[0;31m---------------------------------------------------------------------------\u001b[0m",
      "\u001b[0;31mNameError\u001b[0m                                 Traceback (most recent call last)",
      "\u001b[0;32m/var/folders/lz/h8wpjnjs1fjcj5180sbsjgj00000gn/T/ipykernel_50889/557461111.py\u001b[0m in \u001b[0;36m<module>\u001b[0;34m\u001b[0m\n\u001b[0;32m----> 1\u001b[0;31m \u001b[0mprint\u001b[0m\u001b[0;34m(\u001b[0m\u001b[0mz\u001b[0m\u001b[0;34m)\u001b[0m\u001b[0;34m\u001b[0m\u001b[0;34m\u001b[0m\u001b[0m\n\u001b[0m",
      "\u001b[0;31mNameError\u001b[0m: name 'z' is not defined"
     ]
    }
   ],
   "source": [
    "print(z)"
   ]
  },
  {
   "cell_type": "markdown",
   "id": "c6b97d92-a013-4367-90bd-5838e83732c3",
   "metadata": {},
   "source": [
    "Notice you will get an error saying 'z' is not defined. Why? Because 'z' is in the local scope of the function and cannot be seen in the global scope"
   ]
  },
  {
   "cell_type": "markdown",
   "id": "80aa6078-49cf-4e77-9a15-aef4c1a5c5d8",
   "metadata": {},
   "source": [
    "Finally, lets create a function that will take a list of temperatures in Fahrenheit and convert them to Celsius."
   ]
  },
  {
   "cell_type": "code",
   "execution_count": null,
   "id": "49e19736-e441-4b34-9e9d-71985bd9e86d",
   "metadata": {},
   "outputs": [],
   "source": [
    "def temp_convert(temps):\n",
    "    converted_temps = [] #create an empty list to store the converted temps\n",
    "    for temp in temps: #loop trough the list\n",
    "        conversion = (temp - 32)*(5/9) #convert temperature from list and save to variable named conversion \n",
    "        converted_temps.append(conversion) #append converted temp value to new list that will ultimately be returned \n",
    "    return converted_temps #must use the return keyword to return the list to where it was called"
   ]
  },
  {
   "cell_type": "code",
   "execution_count": null,
   "id": "bec5f3f5-5563-476d-af10-0f5a1c2510e8",
   "metadata": {},
   "outputs": [],
   "source": [
    "temps_C = temp_convert(day1) #temps_C will become the returned converted_temps list from the function \n",
    "print(temps_C) "
   ]
  },
  {
   "cell_type": "code",
   "execution_count": null,
   "id": "7f062fc9-bc4d-4f64-bf8c-6b1aa53c26e5",
   "metadata": {},
   "outputs": [],
   "source": [
    "temp_convert([32,30,50]) #you can pass a list you create at the time of the function call "
   ]
  },
  {
   "cell_type": "code",
   "execution_count": null,
   "id": "84f03828-c322-4937-b57d-1789f722ea03",
   "metadata": {},
   "outputs": [],
   "source": []
  }
 ],
 "metadata": {
  "kernelspec": {
   "display_name": "Python 3 (ipykernel)",
   "language": "python",
   "name": "python3"
  },
  "language_info": {
   "codemirror_mode": {
    "name": "ipython",
    "version": 3
   },
   "file_extension": ".py",
   "mimetype": "text/x-python",
   "name": "python",
   "nbconvert_exporter": "python",
   "pygments_lexer": "ipython3",
   "version": "3.9.7"
  }
 },
 "nbformat": 4,
 "nbformat_minor": 5
}
