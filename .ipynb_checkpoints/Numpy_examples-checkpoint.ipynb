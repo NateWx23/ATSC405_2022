{
 "cells": [
  {
   "cell_type": "markdown",
   "id": "74913981-9b37-4158-b509-c4cf98a9cb2c",
   "metadata": {},
   "source": [
    "#  Review of Numpy Arrays <br> ATSC 405: Numerical Methods in Meteorology <br> University of North Dakota Atmospheric Sciences\n",
    "# Written by: Aaron Scott (aaron.scott@und.edu) <br> Updated: 01 September 2022\n",
    "\n",
    "____"
   ]
  },
  {
   "cell_type": "markdown",
   "id": "f4cc1386-b38d-4555-9476-48bb9177dee2",
   "metadata": {},
   "source": [
    "## Here we are going to explore how to create Numpy arrays\n",
    "[Click here for the Numpy Documentation](https://numpy.org/doc/stable/)\n",
    "<p> There are multiple ways to create numpy arrays and we will look at a few. </p>\n",
    "First we must import numpy "
   ]
  },
  {
   "cell_type": "code",
   "execution_count": 1,
   "id": "e97444db-e5af-43dd-87bd-562c6a268fe7",
   "metadata": {},
   "outputs": [],
   "source": [
    "import numpy as np #The standard alias is np "
   ]
  },
  {
   "cell_type": "markdown",
   "id": "f8702320-4e60-4054-bbd5-996187650d1b",
   "metadata": {},
   "source": [
    "<p> The array() function takes either a list or a tuple as its argument. Arrays can be multidimensional, but we will start with the simple 1-D case. </p>"
   ]
  },
  {
   "cell_type": "code",
   "execution_count": 2,
   "id": "c31c85a8-cfb5-4524-a257-27de9f4c7477",
   "metadata": {},
   "outputs": [
    {
     "data": {
      "text/plain": [
       "array([82, 83, 84, 89, 81])"
      ]
     },
     "execution_count": 2,
     "metadata": {},
     "output_type": "execute_result"
    }
   ],
   "source": [
    "temps_array = np.array([82,83,84,89,81])\n",
    "temps_array"
   ]
  },
  {
   "cell_type": "markdown",
   "id": "4b472f28-5e1a-49d3-a237-2d3531fea55a",
   "metadata": {},
   "source": [
    "<p>we can check the size and shape of an array by using the shape() and size() functions </p>"
   ]
  },
  {
   "cell_type": "code",
   "execution_count": 3,
   "id": "662fb44d-b480-4f50-8f86-ff4abfa55f3b",
   "metadata": {},
   "outputs": [
    {
     "name": "stdout",
     "output_type": "stream",
     "text": [
      "shape: (5,)\n",
      "size: 5\n"
     ]
    }
   ],
   "source": [
    "print('shape:',np.shape(temps_array)) #notice these functions come from the Numpy module (not built-in to Python directly)\n",
    "print('size:',np.size(temps_array))"
   ]
  },
  {
   "cell_type": "markdown",
   "id": "f45bbb97-1af0-4163-8095-5042864a4868",
   "metadata": {},
   "source": [
    "The array also has attributes that can be used to find the shape and size. Note: In Python, attributes are variables of a given class. We won't go into details on classes within this course, but you should at least know that virtually everything in Python belongs to a certain class. For example, when we create a Python list, we create an instance of the list class. These instances are called objects so when the list is created, it is an object. <br>\n",
    "The numpy array belongs to the ndarray class and has several attributes. These attributes can be thought of simply as variables that contain information within or about the object. So for temps_array, it is an instance (object) of the ndarray class and the size and shape variables are attributes."
   ]
  },
  {
   "cell_type": "code",
   "execution_count": 4,
   "id": "989ede92-ec5a-45f2-a10f-c9a6305e72c5",
   "metadata": {},
   "outputs": [
    {
     "name": "stdout",
     "output_type": "stream",
     "text": [
      "shape: (5,)\n",
      "size: 5\n"
     ]
    }
   ],
   "source": [
    "print('shape:',temps_array.shape) #notice these attributes use the dot notation. \n",
    "print('size:',temps_array.size)   #object.attribute where object is temps_array and attribute is size"
   ]
  },
  {
   "cell_type": "markdown",
   "id": "087c3e68-c777-4c14-8b2c-51b0b7ad4604",
   "metadata": {},
   "source": [
    "Array indexing and slicing is similar to that of Python lists and tuples. <br> Note the syntax for slicing: [start:end:step] - defaults - start=0, end=length of array in that dimension, step=1"
   ]
  },
  {
   "cell_type": "code",
   "execution_count": 5,
   "id": "3e5bc4fe-7879-4fc1-a882-a339e2b620a9",
   "metadata": {},
   "outputs": [
    {
     "name": "stdout",
     "output_type": "stream",
     "text": [
      "Entire array: [82 83 84 89 81]\n",
      "Second element: 83\n",
      "First three elements: [82 83 84]\n",
      "Every other element: [82 84 81]\n",
      "The second and third: [83 84]\n"
     ]
    }
   ],
   "source": [
    "print('Entire array:',temps_array)\n",
    "print('Second element:',temps_array[1])\n",
    "print('First three elements:',temps_array[0:3]) #Note it goes up to but not including the end value\n",
    "print('Every other element:',temps_array[::2]) #Note the defaults for slicing here \n",
    "print('The second and third:',temps_array[1:3])"
   ]
  },
  {
   "cell_type": "markdown",
   "id": "07f22bff-da66-4d7a-91df-fdc4f0439624",
   "metadata": {},
   "source": [
    "Now we are going to look at 2-D arrays and how we may use them in typical atmospheric sciences problems. <br> \n",
    "Assume we have a list of temperatures for Grand Forks, Fargo, and Bismarck, ND. Each list contains the temperatures for 00,01,02,03, and 04 UTC for each city."
   ]
  },
  {
   "cell_type": "code",
   "execution_count": 6,
   "id": "218d385f-e8a6-471c-8049-03d8b5455cb4",
   "metadata": {},
   "outputs": [
    {
     "name": "stdout",
     "output_type": "stream",
     "text": [
      "[[75 74 74 73 71]\n",
      " [81 79 78 76 73]\n",
      " [79 78 76 75 74]]\n",
      "Shape: (3, 5)\n"
     ]
    }
   ],
   "source": [
    "ND_temps = np.array([[75,74,74,73,71],[81,79,78,76,73],[79,78,76,75,74]])\n",
    "print(ND_temps) #3 rows and 5 columns \n",
    "print('Shape:',ND_temps.shape) #Notice it returns a tuple (num rows, num columns)"
   ]
  },
  {
   "cell_type": "markdown",
   "id": "43d25e69-ba66-44f0-8de3-bcb5031b2cd0",
   "metadata": {},
   "source": [
    "Notice that each row is associated with the temperatures for each city. The first row is Grand Forks, second is Fargo, and the last row is Bismarck.  <br> For multidimensional arrays, you must supply the index for each dimension. Note that each dimension is called an axis in numpy. The row axis is 0 and the axis the runs along the columns is 1. For more information, [here](https://www.sharpsightlabs.com/blog/numpy-axes-explained/) is a good link on numpy axes. This understanding will come in handy when you are needing to do some operations like taking the sum of the data along a certain dimension (axis) of an array. <br> **How can we print out only the 00 UTC temperatures for all three cities?** <br> Remember the [start,end,step] syntax from above as it works the same in this case. If just the : is given, then it takes all of the data along that dimension (axis).\n"
   ]
  },
  {
   "cell_type": "code",
   "execution_count": 7,
   "id": "1f810a69-9482-4478-a9ca-c421a6fe6da7",
   "metadata": {},
   "outputs": [
    {
     "name": "stdout",
     "output_type": "stream",
     "text": [
      "00 UTC temps: [75 81 79]\n"
     ]
    }
   ],
   "source": [
    "print('00 UTC temps:',ND_temps[:,0]) #this takes all rows and the first column of the array "
   ]
  },
  {
   "cell_type": "markdown",
   "id": "ccf4cfd3-3e58-4561-956a-dd000acfdce2",
   "metadata": {},
   "source": [
    "What about the temperatures from 01-03 UTC for just Fargo and Bismarck?"
   ]
  },
  {
   "cell_type": "code",
   "execution_count": 8,
   "id": "2d452dbf-03a5-46b6-9823-069d9ae61d25",
   "metadata": {},
   "outputs": [
    {
     "name": "stdout",
     "output_type": "stream",
     "text": [
      "01,02,03 temps for Fargo and Bismarck: [[79 78 76]\n",
      " [78 76 75]]\n"
     ]
    }
   ],
   "source": [
    "print('01,02,03 temps for Fargo and Bismarck:',ND_temps[1:,1:4]) #How else could this be written to get the same result?"
   ]
  },
  {
   "cell_type": "markdown",
   "id": "c7c64db5-ef5c-4312-a7d9-0e5050c892a6",
   "metadata": {},
   "source": [
    "Numpy comes with several easy ways to compute statistics of the data within an array. This is one reason that numpy arrays are preferred over lists and tuples for number crunching. Many of the statistics calculations can be done with the methods from the arrays themselves. Remember that a method is just a function that belongs to a particular object (in this case the array object). Numpy also has many functions for computing statistics from arrays. In general, there is no major difference in which way you do it, but there are more options with the numpy functions. Some examples are given below using both ways. An important key here is the use of the **axis** argument to specify how to calculate the statistics. <br> Below uses the max method/function to find the max value for the array."
   ]
  },
  {
   "cell_type": "code",
   "execution_count": 9,
   "id": "be717fcf-3054-405a-b25a-a009233091d5",
   "metadata": {},
   "outputs": [
    {
     "name": "stdout",
     "output_type": "stream",
     "text": [
      "Using the max methods from the numpy array: 81\n",
      "Using the max function from numpy: 81\n"
     ]
    }
   ],
   "source": [
    "print('Using the max methods from the numpy array:',ND_temps.max())\n",
    "print('Using the max function from numpy:',np.max(ND_temps))"
   ]
  },
  {
   "cell_type": "markdown",
   "id": "76a947c1-fe68-4793-9fce-fb0d5b45e83c",
   "metadata": {},
   "source": [
    "We can use the axis keyword argument to specify an axis to calculate the max along. For example, say we want to find the max temperature for each city during the 5 hour period (0-4 UTC). Axis will be 1 since we want to find the max value in each row. In other words, numpy will go row by row and calculate the max value along the columns. "
   ]
  },
  {
   "cell_type": "code",
   "execution_count": 10,
   "id": "6d463f08-599f-47e3-bbd6-bcb099afe754",
   "metadata": {},
   "outputs": [
    {
     "data": {
      "text/plain": [
       "array([75, 81, 79])"
      ]
     },
     "execution_count": 10,
     "metadata": {},
     "output_type": "execute_result"
    }
   ],
   "source": [
    "np.max(ND_temps,axis=1) #using the max numpy function "
   ]
  },
  {
   "cell_type": "markdown",
   "id": "17f98494-1bec-44ac-945c-6f5d038912e0",
   "metadata": {},
   "source": [
    "We can also calculate which city had the highest temperature each hour. To do this we want to find the max value in each column so we specify **axis=0** to have numpy calculate the max value in each column. In other words, numpy will go column by column and calculate the max value along the rows."
   ]
  },
  {
   "cell_type": "code",
   "execution_count": 11,
   "id": "d3c91108-ec97-430e-8d91-7db987901a6b",
   "metadata": {},
   "outputs": [
    {
     "data": {
      "text/plain": [
       "array([81, 79, 78, 76, 74])"
      ]
     },
     "execution_count": 11,
     "metadata": {},
     "output_type": "execute_result"
    }
   ],
   "source": [
    "ND_temps.max(axis=0) #using the max method from the numpy array"
   ]
  },
  {
   "cell_type": "markdown",
   "id": "34c5804b-54b8-4094-a85b-95e5ac38b116",
   "metadata": {},
   "source": [
    "[Look here at some of the other arrays statistics that can be calculated with Numpy](https://numpy.org/doc/stable/reference/routines.statistics.html)\n",
    "\n",
    "--------\n",
    "\n",
    "Sometimes we don't have the data yet that we want to initialize an array with, but we must create the array and give it a shape before we can use the array. This is usually what happens when we are calculating some data in our code and as we calculate the data we want to place it within an array. There are a few ways to create a numpy array with a specified shape. We can use the zeros() and ones() functions from numpy to fill an array with zeros or ones, respectively. You can pass in a list or tuple to specify the shape of the array."
   ]
  },
  {
   "cell_type": "code",
   "execution_count": 12,
   "id": "f9b15990-1b0e-4a70-b73f-68c092aadd8f",
   "metadata": {},
   "outputs": [
    {
     "data": {
      "text/plain": [
       "array([[0., 0., 0.],\n",
       "       [0., 0., 0.]])"
      ]
     },
     "execution_count": 12,
     "metadata": {},
     "output_type": "execute_result"
    }
   ],
   "source": [
    "A_array = np.zeros((2,3)) #notice we pass in a tuple for the shape of the array (rows,columns)\n",
    "A_array"
   ]
  },
  {
   "cell_type": "code",
   "execution_count": 13,
   "id": "96da222d-c8f7-4dc7-a57b-7ce9a51c5e57",
   "metadata": {},
   "outputs": [
    {
     "data": {
      "text/plain": [
       "array([[1., 1., 1., 1.],\n",
       "       [1., 1., 1., 1.],\n",
       "       [1., 1., 1., 1.]])"
      ]
     },
     "execution_count": 13,
     "metadata": {},
     "output_type": "execute_result"
    }
   ],
   "source": [
    "B_array = np.ones((3,4))\n",
    "B_array"
   ]
  },
  {
   "cell_type": "markdown",
   "id": "45a12033-1f04-4801-98a1-602607e1819e",
   "metadata": {},
   "source": [
    "There is also a numpy function called *empty* to create an uninitialized array of specified shape. This will not initialize the array with a specific value; However, it should be made clear that this array is not *really* empty as it will likely have whatever data was previously at that location in memory."
   ]
  },
  {
   "cell_type": "code",
   "execution_count": 14,
   "id": "97c50495-76e8-4288-bd33-8dfd93be36ec",
   "metadata": {},
   "outputs": [
    {
     "data": {
      "text/plain": [
       "array([[1.49166815e-154, 1.49166815e-154],\n",
       "       [1.97626258e-323, 0.00000000e+000],\n",
       "       [0.00000000e+000, 0.00000000e+000],\n",
       "       [1.49166815e-154, 5.60608914e-309]])"
      ]
     },
     "execution_count": 14,
     "metadata": {},
     "output_type": "execute_result"
    }
   ],
   "source": [
    "C_array = np.empty((4,2))\n",
    "C_array"
   ]
  },
  {
   "cell_type": "code",
   "execution_count": null,
   "id": "4dc271f9-5d0c-44df-be9a-bca6d2c75171",
   "metadata": {},
   "outputs": [],
   "source": []
  }
 ],
 "metadata": {
  "kernelspec": {
   "display_name": "Python 3 (ipykernel)",
   "language": "python",
   "name": "python3"
  },
  "language_info": {
   "codemirror_mode": {
    "name": "ipython",
    "version": 3
   },
   "file_extension": ".py",
   "mimetype": "text/x-python",
   "name": "python",
   "nbconvert_exporter": "python",
   "pygments_lexer": "ipython3",
   "version": "3.9.7"
  }
 },
 "nbformat": 4,
 "nbformat_minor": 5
}
