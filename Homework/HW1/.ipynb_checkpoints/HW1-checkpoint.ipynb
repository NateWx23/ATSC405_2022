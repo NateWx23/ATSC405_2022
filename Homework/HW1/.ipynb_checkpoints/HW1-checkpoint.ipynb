{
 "cells": [
  {
   "cell_type": "markdown",
   "id": "d318b749-977f-48e2-a2f7-53a0ebb67c2a",
   "metadata": {},
   "source": [
    "# HW 1 ATSC 405, UND\n",
    "Written by: Aaron Scott <br>\n",
    "**Due: Sept 14 9:05 am**\n"
   ]
  },
  {
   "cell_type": "code",
   "execution_count": 1,
   "id": "3dc26e43-dc16-4d83-97c1-416aeeb423b5",
   "metadata": {},
   "outputs": [],
   "source": [
    "import matplotlib.pyplot as plt #import for plotting"
   ]
  },
  {
   "cell_type": "markdown",
   "id": "2f1659ba-5471-4366-84bc-8d7cb3cb7a94",
   "metadata": {},
   "source": [
    "# Read in ASOS temp data\n",
    "Each column is a day. Each row is an hour; 1st row is header so discard; 2nd row is 1 UTC and last row is 23 UTC. Read in each day into a list "
   ]
  },
  {
   "cell_type": "code",
   "execution_count": 3,
   "id": "d08a8bae-bdfd-4651-9529-181bd9094b64",
   "metadata": {},
   "outputs": [],
   "source": [
    "Feb_25_asos = [] #create list for each day of asos data \n",
    "\n",
    "\n",
    "with open('asos_temp.txt') as f:\n",
    "    for i,line in enumerate(f):\n",
    "        if i == 0: #skip header row \n",
    "            pass\n",
    "        else:\n",
    "            line = line.split()\n",
    "            Feb_25_asos.append(float(line[0]))  #each column is a day of data from 1-23 UTC; Column 1 = Feb 25 (index 0)\n",
    "#add code here"
   ]
  },
  {
   "cell_type": "markdown",
   "id": "f248c10a-b06f-46a9-8cee-506a683f428e",
   "metadata": {},
   "source": [
    "# Read in HRRR temp data\n",
    "Each column is a day. Each row is an hour; 1st row is header so discard; 2nd row is 1 UTC and last row is 23 UTC. Read in each day into a list. "
   ]
  },
  {
   "cell_type": "code",
   "execution_count": null,
   "id": "a4d22ba4-2550-4018-9f87-9e7f8cc22f11",
   "metadata": {},
   "outputs": [],
   "source": [
    "#add code here "
   ]
  },
  {
   "cell_type": "markdown",
   "id": "e6a30071-feec-4b4d-a8d4-823a918eefb6",
   "metadata": {},
   "source": [
    "\n",
    "## Create line plot comparing ASOS to HRRR \n",
    "Do 1 plot per day (1 line for ASOS and 1 line for HRRR). Save figure for each day - Name plot 'GFK_mo_da_yr.pdf' mo=month, da=day, yr=year. Example: Feb 25 2022 will be - 'GFK_02_25_22.pdf' <br>\n",
    "Other items: <br> Labels must be included with correct units, legend, x-axis should show data from 1-23 UTC, show x-ticks 1-23 every other one, add grid lines, HRRR should be in blue, asos should be in black\n"
   ]
  },
  {
   "cell_type": "code",
   "execution_count": 7,
   "id": "f8b99500-44e6-4456-81af-162b90900321",
   "metadata": {},
   "outputs": [
    {
     "ename": "NameError",
     "evalue": "name 'plt' is not defined",
     "output_type": "error",
     "traceback": [
      "\u001b[0;31m---------------------------------------------------------------------------\u001b[0m",
      "\u001b[0;31mNameError\u001b[0m                                 Traceback (most recent call last)",
      "\u001b[0;32m/var/folders/lz/h8wpjnjs1fjcj5180sbsjgj00000gn/T/ipykernel_52227/3239873532.py\u001b[0m in \u001b[0;36m<module>\u001b[0;34m\u001b[0m\n\u001b[1;32m      1\u001b[0m \u001b[0;31m#use Method 2 - create figure and axes object manually like below\u001b[0m\u001b[0;34m\u001b[0m\u001b[0;34m\u001b[0m\u001b[0m\n\u001b[0;32m----> 2\u001b[0;31m \u001b[0mfig\u001b[0m \u001b[0;34m=\u001b[0m \u001b[0mplt\u001b[0m\u001b[0;34m.\u001b[0m\u001b[0mfigure\u001b[0m\u001b[0;34m(\u001b[0m\u001b[0mfigsize\u001b[0m\u001b[0;34m=\u001b[0m\u001b[0;34m(\u001b[0m\u001b[0;36m8\u001b[0m\u001b[0;34m,\u001b[0m\u001b[0;36m5\u001b[0m\u001b[0;34m)\u001b[0m\u001b[0;34m)\u001b[0m \u001b[0;31m#creates figure object\u001b[0m\u001b[0;34m\u001b[0m\u001b[0;34m\u001b[0m\u001b[0m\n\u001b[0m\u001b[1;32m      3\u001b[0m \u001b[0max\u001b[0m \u001b[0;34m=\u001b[0m \u001b[0mfig\u001b[0m\u001b[0;34m.\u001b[0m\u001b[0madd_axes\u001b[0m\u001b[0;34m(\u001b[0m\u001b[0;34m[\u001b[0m\u001b[0;36m.1\u001b[0m\u001b[0;34m,\u001b[0m\u001b[0;36m.1\u001b[0m\u001b[0;34m,\u001b[0m\u001b[0;36m.8\u001b[0m\u001b[0;34m,\u001b[0m\u001b[0;36m.8\u001b[0m\u001b[0;34m]\u001b[0m\u001b[0;34m)\u001b[0m \u001b[0;31m#creates axes object\u001b[0m\u001b[0;34m\u001b[0m\u001b[0;34m\u001b[0m\u001b[0m\n\u001b[1;32m      4\u001b[0m \u001b[0;34m\u001b[0m\u001b[0m\n\u001b[1;32m      5\u001b[0m \u001b[0mUTC_times\u001b[0m \u001b[0;34m=\u001b[0m \u001b[0;34m[\u001b[0m\u001b[0mval\u001b[0m \u001b[0;32mfor\u001b[0m \u001b[0mval\u001b[0m \u001b[0;32min\u001b[0m \u001b[0mrange\u001b[0m\u001b[0;34m(\u001b[0m\u001b[0;36m1\u001b[0m\u001b[0;34m,\u001b[0m\u001b[0;36m24\u001b[0m\u001b[0;34m,\u001b[0m\u001b[0;36m1\u001b[0m\u001b[0;34m)\u001b[0m\u001b[0;34m]\u001b[0m \u001b[0;31m#generates list for x-axis; 1-23\u001b[0m\u001b[0;34m\u001b[0m\u001b[0;34m\u001b[0m\u001b[0m\n",
      "\u001b[0;31mNameError\u001b[0m: name 'plt' is not defined"
     ]
    }
   ],
   "source": [
    "#use Method 2 - create figure and axes object manually like below \n",
    "fig = plt.figure(figsize=(8,5)) #creates figure object\n",
    "ax = fig.add_axes([.1,.1,.8,.8]) #creates axes object \n",
    "\n",
    "UTC_times = [val for val in range(1,24,1)] #generates list for x-axis; 1-23\n",
    "\n",
    "#add code here\n"
   ]
  },
  {
   "cell_type": "code",
   "execution_count": null,
   "id": "88120e78-f60e-43fb-b678-ca3952edac68",
   "metadata": {},
   "outputs": [],
   "source": []
  },
  {
   "cell_type": "code",
   "execution_count": null,
   "id": "e882e97f-1f1e-47dd-87f7-3652ed0d5310",
   "metadata": {},
   "outputs": [],
   "source": []
  },
  {
   "cell_type": "code",
   "execution_count": null,
   "id": "4d54784e-a763-4311-b555-50641cbd2c87",
   "metadata": {},
   "outputs": [],
   "source": []
  },
  {
   "cell_type": "markdown",
   "id": "a9f20f9e-434a-4c8b-b9ac-4844404bbaeb",
   "metadata": {},
   "source": [
    "## Create scatter plot of ALL days on one plot \n",
    "X-axis should be HRRR temps and y-axis should be ASOS temps. Make temps from 1-11 UTC (night) Blue. Make temps from 12-23 UTC (day) Red. "
   ]
  },
  {
   "cell_type": "code",
   "execution_count": 6,
   "id": "c49aaf54-2836-407a-b44b-ee1db9f50549",
   "metadata": {},
   "outputs": [
    {
     "ename": "NameError",
     "evalue": "name 'plt' is not defined",
     "output_type": "error",
     "traceback": [
      "\u001b[0;31m---------------------------------------------------------------------------\u001b[0m",
      "\u001b[0;31mNameError\u001b[0m                                 Traceback (most recent call last)",
      "\u001b[0;32m/var/folders/lz/h8wpjnjs1fjcj5180sbsjgj00000gn/T/ipykernel_52227/946961519.py\u001b[0m in \u001b[0;36m<module>\u001b[0;34m\u001b[0m\n\u001b[1;32m      1\u001b[0m \u001b[0;31m#use Method 2 - create figure and axes object manually like below\u001b[0m\u001b[0;34m\u001b[0m\u001b[0;34m\u001b[0m\u001b[0m\n\u001b[0;32m----> 2\u001b[0;31m \u001b[0mfig\u001b[0m \u001b[0;34m=\u001b[0m \u001b[0mplt\u001b[0m\u001b[0;34m.\u001b[0m\u001b[0mfigure\u001b[0m\u001b[0;34m(\u001b[0m\u001b[0mfigsize\u001b[0m\u001b[0;34m=\u001b[0m\u001b[0;34m(\u001b[0m\u001b[0;36m8\u001b[0m\u001b[0;34m,\u001b[0m\u001b[0;36m5\u001b[0m\u001b[0;34m)\u001b[0m\u001b[0;34m)\u001b[0m\u001b[0;34m\u001b[0m\u001b[0;34m\u001b[0m\u001b[0m\n\u001b[0m\u001b[1;32m      3\u001b[0m \u001b[0max\u001b[0m \u001b[0;34m=\u001b[0m \u001b[0mfig\u001b[0m\u001b[0;34m.\u001b[0m\u001b[0madd_axes\u001b[0m\u001b[0;34m(\u001b[0m\u001b[0;34m[\u001b[0m\u001b[0;36m.1\u001b[0m\u001b[0;34m,\u001b[0m\u001b[0;36m.1\u001b[0m\u001b[0;34m,\u001b[0m\u001b[0;36m.8\u001b[0m\u001b[0;34m,\u001b[0m\u001b[0;36m.8\u001b[0m\u001b[0;34m]\u001b[0m\u001b[0;34m)\u001b[0m\u001b[0;34m\u001b[0m\u001b[0;34m\u001b[0m\u001b[0m\n\u001b[1;32m      4\u001b[0m \u001b[0;34m\u001b[0m\u001b[0m\n\u001b[1;32m      5\u001b[0m \u001b[0;31m#add code here\u001b[0m\u001b[0;34m\u001b[0m\u001b[0;34m\u001b[0m\u001b[0m\n",
      "\u001b[0;31mNameError\u001b[0m: name 'plt' is not defined"
     ]
    }
   ],
   "source": [
    "#use Method 2 - create figure and axes object manually like below \n",
    "fig = plt.figure(figsize=(8,5))\n",
    "ax = fig.add_axes([.1,.1,.8,.8])\n",
    "\n",
    "#add code here "
   ]
  },
  {
   "cell_type": "markdown",
   "id": "18890d1d-8c94-4032-95f9-31737eacdeb3",
   "metadata": {},
   "source": [
    "\n",
    "\n",
    "\n",
    "\n",
    "\n",
    "\n",
    "## Write a function that calculates max, min, and average for a list of temperatures"
   ]
  },
  {
   "cell_type": "code",
   "execution_count": 6,
   "id": "889c63e6-dd06-43e6-b6c5-063fba5cba64",
   "metadata": {},
   "outputs": [],
   "source": [
    "#add code here "
   ]
  },
  {
   "cell_type": "markdown",
   "id": "977b1d28-7d11-416f-9d94-bd6559fa56a1",
   "metadata": {},
   "source": [
    "## Call stats functions and save max,min,ave for each day for hrrr and asos"
   ]
  },
  {
   "cell_type": "code",
   "execution_count": 7,
   "id": "483dce87-f44c-43ea-b15a-0ed8004b0289",
   "metadata": {},
   "outputs": [],
   "source": [
    "#add code here "
   ]
  },
  {
   "cell_type": "markdown",
   "id": "67dd6d5a-2392-4620-a0bf-fd1b9c7ae75b",
   "metadata": {},
   "source": [
    "## Make a bar plot of the max temperatures for HRRR and another one for ASOS (so two plots)\n",
    "## Each bar will be max for a single day \n",
    "## Add x lables for each bar to indicate day; Example Feb 25\n",
    "## Save the plots as 'GFK_max_hrrr' and 'GFK_max_asos'"
   ]
  },
  {
   "cell_type": "code",
   "execution_count": 4,
   "id": "a091aa0f-cd10-466e-8b89-9167658ace34",
   "metadata": {},
   "outputs": [],
   "source": [
    "#add code here "
   ]
  },
  {
   "cell_type": "code",
   "execution_count": 5,
   "id": "a5d40361-8359-4928-a76e-7be67cda1e12",
   "metadata": {},
   "outputs": [],
   "source": [
    "#add code here"
   ]
  },
  {
   "cell_type": "code",
   "execution_count": null,
   "id": "87d4a493-ed06-4b7c-8376-5a9b1bd8089c",
   "metadata": {},
   "outputs": [],
   "source": []
  }
 ],
 "metadata": {
  "kernelspec": {
   "display_name": "Python 3 (ipykernel)",
   "language": "python",
   "name": "python3"
  },
  "language_info": {
   "codemirror_mode": {
    "name": "ipython",
    "version": 3
   },
   "file_extension": ".py",
   "mimetype": "text/x-python",
   "name": "python",
   "nbconvert_exporter": "python",
   "pygments_lexer": "ipython3",
   "version": "3.9.7"
  }
 },
 "nbformat": 4,
 "nbformat_minor": 5
}
