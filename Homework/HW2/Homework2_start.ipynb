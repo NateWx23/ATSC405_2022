{
 "cells": [
  {
   "cell_type": "markdown",
   "id": "539baf64-c3a8-421c-b6a5-237e5c107e28",
   "metadata": {},
   "source": [
    "## Homework 2 ATSC 405 \n",
    "\n",
    "Calculating terminal velocity of cloud droplet and exploring numerical round-off errors.\n",
    "\n",
    "-------\n",
    "\n",
    "Use the below code as a guide to starting you assignment. The code for writing your data to a text file has already been included."
   ]
  },
  {
   "cell_type": "code",
   "execution_count": null,
   "id": "73d45ee7-6929-45d0-9910-7e832431ece1",
   "metadata": {},
   "outputs": [],
   "source": [
    "import math\n",
    "import matplotlib.pyplot as plt\n",
    "import numpy as np"
   ]
  },
  {
   "cell_type": "code",
   "execution_count": null,
   "id": "401ff5a0-d082-471a-a56a-413127c70610",
   "metadata": {},
   "outputs": [],
   "source": [
    "# create radius array HERE (hint: use np.linspace or np.arange)\n",
    "# do not use lists \n",
    "nr = len(r_um) # length of radius array\n",
    "vt = np.empty([nr]) # create empty terminal velocity array"
   ]
  },
  {
   "cell_type": "markdown",
   "id": "97e56d11-eb13-4257-b530-40f2e6687584",
   "metadata": {},
   "source": [
    "We are coding up the following equation: <br>\n",
    "$v_t=\\dfrac{2r^2}{9\\eta} (\\rho_w - \\rho_a)g $\n",
    "<br>where all variables are treated as constants expect r."
   ]
  },
  {
   "cell_type": "code",
   "execution_count": null,
   "id": "67d23ab3-01be-4cba-b069-e342b67ef276",
   "metadata": {},
   "outputs": [],
   "source": [
    "# before loop\n",
    "velocity_file = open('velocity.txt', 'w') # Open data file\n",
    "\n",
    "# in LOOP, output data to file\n",
    "  velocity_file.write(\"%e %e\\n\"%(r[i],vt[i]))\n",
    "\n",
    "\n",
    "# after loop, close output file\n",
    "velocity_file.close () # close data file\n",
    "\n"
   ]
  }
 ],
 "metadata": {
  "kernelspec": {
   "display_name": "Python 3 (ipykernel)",
   "language": "python",
   "name": "python3"
  },
  "language_info": {
   "codemirror_mode": {
    "name": "ipython",
    "version": 3
   },
   "file_extension": ".py",
   "mimetype": "text/x-python",
   "name": "python",
   "nbconvert_exporter": "python",
   "pygments_lexer": "ipython3",
   "version": "3.9.7"
  }
 },
 "nbformat": 4,
 "nbformat_minor": 5
}
