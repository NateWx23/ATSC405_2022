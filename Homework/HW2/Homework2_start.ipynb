{
 "cells": [
  {
   "cell_type": "markdown",
   "id": "539baf64-c3a8-421c-b6a5-237e5c107e28",
   "metadata": {},
   "source": [
    "## Homework 2 ATSC 405 \n",
    "\n",
    "Calculating terminal velocity of cloud droplet and exploring numerical round-off errors.\n",
    "\n",
    "-------\n",
    "\n",
    "Use the below code as a guide to starting you assignment. The code for writing your data to a text file has already been included."
   ]
  },
  {
   "cell_type": "code",
   "execution_count": null,
   "id": "b3ef6b34-f4fc-4d80-8c21-481126dec0f7",
   "metadata": {},
   "outputs": [],
   "source": []
  },
  {
   "cell_type": "code",
   "execution_count": 1,
   "id": "73d45ee7-6929-45d0-9910-7e832431ece1",
   "metadata": {},
   "outputs": [],
   "source": [
    "import math\n",
    "import matplotlib.pyplot as plt\n",
    "import numpy as np"
   ]
  },
  {
   "cell_type": "code",
   "execution_count": 21,
   "id": "d766db26-763a-4c5f-b2d5-0b85432ec4eb",
   "metadata": {},
   "outputs": [],
   "source": [
    "#A = np.arange(1,10.01,(10/1000))\n",
    "#print(A)\n",
    "#B = np.linspace(1,10,1000)\n",
    "#B\n"
   ]
  },
  {
   "cell_type": "code",
   "execution_count": 24,
   "id": "401ff5a0-d082-471a-a56a-413127c70610",
   "metadata": {},
   "outputs": [],
   "source": [
    "# create radius array HERE (hint: use np.linspace or np.arange)\n",
    "# do not use lists \n",
    "r_um = np.linspace(1,10,1000)\n",
    "nr = len(r_um) # length of radius array\n",
    "vt = np.empty([nr]) # create empty terminal velocity array\n"
   ]
  },
  {
   "cell_type": "markdown",
   "id": "97e56d11-eb13-4257-b530-40f2e6687584",
   "metadata": {},
   "source": [
    "We are coding up the following equation: <br>\n",
    "$v_t=\\dfrac{2r^2}{9\\eta} (\\rho_w - \\rho_a)g $\n",
    "<br>where all variables are treated as constants expect r."
   ]
  },
  {
   "cell_type": "code",
   "execution_count": null,
   "id": "67d23ab3-01be-4cba-b069-e342b67ef276",
   "metadata": {},
   "outputs": [],
   "source": [
    "# before loop\n",
    "velocity_file = open('velocity.txt', 'w') # Open data file\n",
    "\n",
    "\n",
    "\n",
    "# in LOOP, output data to file\n",
    "  velocity_file.write(\"%e %e\\n\"%(r[i],vt[i]))\n",
    "\n",
    "\n",
    "# after loop, close output file\n",
    "velocity_file.close () # close data file\n",
    "\n"
   ]
  }
 ],
 "metadata": {
  "kernelspec": {
   "display_name": "Python 3 (ipykernel)",
   "language": "python",
   "name": "python3"
  },
  "language_info": {
   "codemirror_mode": {
    "name": "ipython",
    "version": 3
   },
   "file_extension": ".py",
   "mimetype": "text/x-python",
   "name": "python",
   "nbconvert_exporter": "python",
   "pygments_lexer": "ipython3",
   "version": "3.9.7"
  }
 },
 "nbformat": 4,
 "nbformat_minor": 5
}
