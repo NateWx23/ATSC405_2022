{
 "cells": [
  {
   "cell_type": "markdown",
   "id": "de0e211f-72aa-451b-8bcd-9b883866e332",
   "metadata": {},
   "source": [
    "#  Introduction and Review of Python Loops <br> ATSC 405: Numerical Methods in Meteorology <br> University of North Dakota Atmospheric Sciences\n",
    "# Written by: Aaron Scott (aaron.scott@und.edu) <br> Updated: 01 September 2022"
   ]
  },
  {
   "cell_type": "code",
   "execution_count": 1,
   "id": "85b9a41e",
   "metadata": {},
   "outputs": [],
   "source": [
    "my_items = ['Tor1','Tor2','Tor3','Tor4','Tor5'] #creating a list of strings "
   ]
  },
  {
   "cell_type": "code",
   "execution_count": 2,
   "id": "5354e626",
   "metadata": {},
   "outputs": [
    {
     "name": "stdout",
     "output_type": "stream",
     "text": [
      "['Tor1', 'Tor2', 'Tor3', 'Tor4', 'Tor5']\n"
     ]
    }
   ],
   "source": [
    "print(my_items)"
   ]
  },
  {
   "cell_type": "markdown",
   "id": "400db265-29d0-492a-aa55-5faf646d8a77",
   "metadata": {},
   "source": [
    "## Here we are going to explore the different ways you can use loops within Python\n",
    "\n",
    "As we go, we will get more pythonic. While loops can be used to iterate over a list of items. While loops have their uses in Python, but for the example here, this is not very pythonic. "
   ]
  },
  {
   "cell_type": "code",
   "execution_count": 3,
   "id": "0d9b3870",
   "metadata": {},
   "outputs": [
    {
     "name": "stdout",
     "output_type": "stream",
     "text": [
      "Tor1\n",
      "Tor2\n",
      "Tor3\n",
      "Tor4\n",
      "Tor5\n"
     ]
    }
   ],
   "source": [
    "#example 1\n",
    "i = 0 \n",
    "while i < len(my_items):\n",
    "    print(my_items[i])\n",
    "    i +=1"
   ]
  },
  {
   "cell_type": "markdown",
   "id": "b5efef65-7e48-4fc6-a417-cc543990cc15",
   "metadata": {},
   "source": [
    "## Example 2 \n",
    "Using the range function to generate an iterator to explicitly index items in an object. This type of loop generation is common in many programming languages. "
   ]
  },
  {
   "cell_type": "code",
   "execution_count": 4,
   "id": "4f2fa6dc",
   "metadata": {},
   "outputs": [
    {
     "name": "stdout",
     "output_type": "stream",
     "text": [
      "Tor1\n",
      "Tor2\n",
      "Tor3\n",
      "Tor4\n",
      "Tor5\n"
     ]
    }
   ],
   "source": [
    "#example 2\n",
    "\n",
    "for i in range((len(my_items))):\n",
    "    print(my_items[i])"
   ]
  },
  {
   "cell_type": "markdown",
   "id": "3f2e264a-c202-4105-829f-a07c46f53a5c",
   "metadata": {},
   "source": [
    "### In Python, for loops can iterate over any iterable object <br> Examples of iterable objects: <br> <font color='blue'> - Lists <br> - numpy arrays <br> - tuples <br> - dictionaries</font> <br> This is a pythonic way of writing a loop."
   ]
  },
  {
   "cell_type": "code",
   "execution_count": 5,
   "id": "d135b7be",
   "metadata": {},
   "outputs": [
    {
     "name": "stdout",
     "output_type": "stream",
     "text": [
      "Tor1\n",
      "Tor2\n",
      "Tor3\n",
      "Tor4\n",
      "Tor5\n"
     ]
    }
   ],
   "source": [
    "#example 3\n",
    "\n",
    "for item in my_items:\n",
    "    print(item)"
   ]
  },
  {
   "cell_type": "markdown",
   "id": "8642e65a-40c8-40ac-b045-8d865536467f",
   "metadata": {},
   "source": [
    "## Sometimes you may need to loop over more than one object (like a list) at a time. Python has a built-in function called zip to handle this."
   ]
  },
  {
   "cell_type": "code",
   "execution_count": 6,
   "id": "67693072-d287-41da-bd79-af569e7b1b1f",
   "metadata": {},
   "outputs": [
    {
     "name": "stdout",
     "output_type": "stream",
     "text": [
      "Tor1 Hur 1\n",
      "Tor2 Hur 2\n",
      "Tor3 Hur 3\n",
      "Tor4 Hur 4\n",
      "Tor5 Hur 5\n"
     ]
    }
   ],
   "source": [
    "my_items_2 = ['Hur 1','Hur 2','Hur 3','Hur 4','Hur 5']\n",
    "\n",
    "for x,y in zip(my_items,my_items_2):\n",
    "    print(x,y)"
   ]
  },
  {
   "cell_type": "markdown",
   "id": "6f137ec2-b1eb-454b-9c24-adb7e68b10c1",
   "metadata": {},
   "source": [
    "## Another useful built-in function is called enumerate. <br> This will return the number of the iteration and the item from the object being looped over. <br> There are several use cases where it is useful to know what number iteration the loop is on."
   ]
  },
  {
   "cell_type": "code",
   "execution_count": 7,
   "id": "6a14cf7c",
   "metadata": {},
   "outputs": [
    {
     "name": "stdout",
     "output_type": "stream",
     "text": [
      "0 Tor1\n",
      "1 Tor2\n",
      "2 Tor3\n",
      "3 Tor4\n",
      "4 Tor5\n"
     ]
    }
   ],
   "source": [
    "#example 4\n",
    "for i,item in enumerate(my_items):\n",
    "    print(i,item)"
   ]
  },
  {
   "cell_type": "markdown",
   "id": "6f596996-e417-460b-9978-a3bc75524d6a",
   "metadata": {},
   "source": [
    "### List Comprehensions\n",
    "Shorter syntax for creating a list based off another list. <br> They are almost always faster than a loop."
   ]
  },
  {
   "cell_type": "code",
   "execution_count": 8,
   "id": "ca08a763-f7fa-4e18-8268-865745f0aa8f",
   "metadata": {},
   "outputs": [],
   "source": [
    "A = [item for item in my_items]"
   ]
  },
  {
   "cell_type": "markdown",
   "id": "1d7ca0fa-f545-40d9-b109-e6d2749319e5",
   "metadata": {},
   "source": [
    "## Now we will try some of these examples using ATSC applications\n",
    "The code block below will read in a text file of temperatures and save the first column of temps to a list called day1. We will cover file I/O in some more detail but see if you can understand the code block below. "
   ]
  },
  {
   "cell_type": "code",
   "execution_count": 9,
   "id": "ee36ed7d-4487-4899-b3ad-8172b1323e83",
   "metadata": {},
   "outputs": [],
   "source": [
    "day1 = []\n",
    "day2 = []\n",
    "day3 = []\n",
    "day4 = []\n",
    "day5 = []\n",
    "\n",
    "with open('./asos_temp.txt') as f:\n",
    "    for i,line in enumerate(f):\n",
    "        if i == 0:\n",
    "            pass\n",
    "        else:\n",
    "            line = line.split()\n",
    "            day1.append(float(line[0]))\n",
    "            day2.append(float(line[1]))\n",
    "            day3.append(float(line[2]))\n",
    "            day4.append(float(line[3]))\n",
    "            day5.append(float(line[4]))\n",
    "      "
   ]
  },
  {
   "cell_type": "code",
   "execution_count": 10,
   "id": "85678809-4862-4a2d-aa82-c3702996e0d0",
   "metadata": {},
   "outputs": [],
   "source": [
    "## Use a for loop to convert the temperatures from degrees Fahrenheit to Celsius.  "
   ]
  },
  {
   "cell_type": "code",
   "execution_count": 11,
   "id": "ce2f3a7e-7bf0-4552-8888-8cfef7b5425c",
   "metadata": {},
   "outputs": [],
   "source": [
    "day1_C = []\n",
    "for temp in day1:\n",
    "    conversion = (temp - 32)*(5/9)\n",
    "    day1_C.append(conversion)"
   ]
  },
  {
   "cell_type": "code",
   "execution_count": 12,
   "id": "b88ee509-0654-4b2f-8d69-d87eed44a785",
   "metadata": {},
   "outputs": [
    {
     "data": {
      "text/plain": [
       "[-16.77777777777778,\n",
       " -20.611111111111114,\n",
       " -22.5,\n",
       " -22.611111111111114,\n",
       " -23.722222222222225,\n",
       " -23.77777777777778,\n",
       " -24.38888888888889,\n",
       " -24.000000000000004,\n",
       " -24.77777777777778,\n",
       " -24.38888888888889,\n",
       " -25.22222222222222,\n",
       " -23.111111111111114,\n",
       " -23.22222222222222,\n",
       " -23.0,\n",
       " -20.72222222222222,\n",
       " -17.77777777777778,\n",
       " -16.22222222222222,\n",
       " -13.777777777777779,\n",
       " -12.777777777777779,\n",
       " -11.5,\n",
       " -10.11111111111111,\n",
       " -10.722222222222223,\n",
       " -10.5]"
      ]
     },
     "execution_count": 12,
     "metadata": {},
     "output_type": "execute_result"
    }
   ],
   "source": [
    "day1_C"
   ]
  },
  {
   "cell_type": "code",
   "execution_count": null,
   "id": "fec59e0b-a8f6-4684-8cdc-8d85c8f89c86",
   "metadata": {},
   "outputs": [],
   "source": []
  }
 ],
 "metadata": {
  "kernelspec": {
   "display_name": "Python 3 (ipykernel)",
   "language": "python",
   "name": "python3"
  },
  "language_info": {
   "codemirror_mode": {
    "name": "ipython",
    "version": 3
   },
   "file_extension": ".py",
   "mimetype": "text/x-python",
   "name": "python",
   "nbconvert_exporter": "python",
   "pygments_lexer": "ipython3",
   "version": "3.9.7"
  }
 },
 "nbformat": 4,
 "nbformat_minor": 5
}
