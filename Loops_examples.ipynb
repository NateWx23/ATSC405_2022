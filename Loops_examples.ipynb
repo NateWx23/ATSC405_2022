{
 "cells": [
  {
   "cell_type": "markdown",
   "id": "de0e211f-72aa-451b-8bcd-9b883866e332",
   "metadata": {},
   "source": [
    "#  Introduction and Review of Python Loops"
   ]
  },
  {
   "cell_type": "code",
   "execution_count": 21,
   "id": "85b9a41e",
   "metadata": {},
   "outputs": [],
   "source": [
    "my_items = ['Tor1','Tor2','Tor3','Tor4','Tor5']"
   ]
  },
  {
   "cell_type": "code",
   "execution_count": null,
   "id": "5354e626",
   "metadata": {},
   "outputs": [],
   "source": [
    "print(my_items)"
   ]
  },
  {
   "cell_type": "markdown",
   "id": "400db265-29d0-492a-aa55-5faf646d8a77",
   "metadata": {},
   "source": [
    "## Here we are going to explore the different ways you can use loops within Python\n",
    "\n",
    "#### As we go, we will get more pythonic <br> While loops can be used to iterate over a list of items. <br> While loops have their uses in Python, but for the example here, this is not very pythonic. "
   ]
  },
  {
   "cell_type": "code",
   "execution_count": null,
   "id": "0d9b3870",
   "metadata": {},
   "outputs": [],
   "source": [
    "#example 1\n",
    "i = 0 \n",
    "while i < len(my_items):\n",
    "    print(my_items[i])\n",
    "    i +=1"
   ]
  },
  {
   "cell_type": "markdown",
   "id": "b5efef65-7e48-4fc6-a417-cc543990cc15",
   "metadata": {},
   "source": [
    "## Example 2 uses the range function to generate an iterator to explicitly index items in an object. <br> This type of loop generation is common in many programming languages. "
   ]
  },
  {
   "cell_type": "code",
   "execution_count": null,
   "id": "4f2fa6dc",
   "metadata": {},
   "outputs": [],
   "source": [
    "#example 2\n",
    "\n",
    "for i in range((len(my_items))):\n",
    "    print(my_items[i])"
   ]
  },
  {
   "cell_type": "markdown",
   "id": "a2efa416-a4e0-4559-9948-27afc02b8bcb",
   "metadata": {},
   "source": []
  },
  {
   "cell_type": "markdown",
   "id": "3f2e264a-c202-4105-829f-a07c46f53a5c",
   "metadata": {},
   "source": [
    "### In Python, for loops can iterate over any iterable object <br> Examples of iterable objects: <br> <font color='blue'> - Lists <br> - numpy arrays <br> - tuples <br> - dictionaries</font> <br> This is a pythonic way of writing a loop."
   ]
  },
  {
   "cell_type": "code",
   "execution_count": null,
   "id": "d135b7be",
   "metadata": {},
   "outputs": [],
   "source": [
    "#example 3\n",
    "\n",
    "for item in my_items:\n",
    "    print(item)"
   ]
  },
  {
   "cell_type": "markdown",
   "id": "8642e65a-40c8-40ac-b045-8d865536467f",
   "metadata": {},
   "source": [
    "## Sometimes you may need to loop over more than one object (like a list) at a time. Python has a built-in function called zip to handle this."
   ]
  },
  {
   "cell_type": "code",
   "execution_count": null,
   "id": "67693072-d287-41da-bd79-af569e7b1b1f",
   "metadata": {},
   "outputs": [],
   "source": [
    "my_items_2 = ['Hur 1','Hur 2','Hur 3','Hur 4','Hur5']\n",
    "\n",
    "for x,y in zip(my_items,my_items_2):\n",
    "    print(x,y)"
   ]
  },
  {
   "cell_type": "markdown",
   "id": "6f137ec2-b1eb-454b-9c24-adb7e68b10c1",
   "metadata": {},
   "source": [
    "## Another useful bilt-in functino is called enumeratate. <br> This will return the number of the iteration and the item from the object being looped over. <br> There are several use cases where it is useful to know what number iteration the loop is on."
   ]
  },
  {
   "cell_type": "code",
   "execution_count": null,
   "id": "6a14cf7c",
   "metadata": {},
   "outputs": [],
   "source": [
    "#example 4\n",
    "for i,item in enumerate(my_items):\n",
    "    print(i,item)"
   ]
  },
  {
   "cell_type": "markdown",
   "id": "6f596996-e417-460b-9978-a3bc75524d6a",
   "metadata": {},
   "source": [
    "### List Comprehensions <br> Shorter syntax for creating a list based off another list. <br> They are almsot always faster than a loop."
   ]
  },
  {
   "cell_type": "code",
   "execution_count": 22,
   "id": "ca08a763-f7fa-4e18-8268-865745f0aa8f",
   "metadata": {},
   "outputs": [],
   "source": [
    "A = [item for item in my_items]"
   ]
  },
  {
   "cell_type": "markdown",
   "id": "1d7ca0fa-f545-40d9-b109-e6d2749319e5",
   "metadata": {},
   "source": [
    "## Now we will try some of these examples using ATSC applications\n",
    "## The code block below will read in a text file of temperatures and save the first column of temps to a list called day1. <br> We will cover file I/O in some more detail but see if you can understand the code block below. "
   ]
  },
  {
   "cell_type": "code",
   "execution_count": 6,
   "id": "ee36ed7d-4487-4899-b3ad-8172b1323e83",
   "metadata": {},
   "outputs": [],
   "source": [
    "day1 = []\n",
    "with open('./asos_temp.txt') as f:\n",
    "    for i,line in enumerate(f):\n",
    "        if i == 0:\n",
    "            pass\n",
    "        else:\n",
    "            line = line.split()\n",
    "            day1.append(float(line[0]))\n",
    "      "
   ]
  },
  {
   "cell_type": "markdown",
   "id": "40fa8ffd-aed6-496d-a39b-46a1ef042646",
   "metadata": {},
   "source": [
    "## Use a for loop to convert the temperatures from degrees Fahrenheit to Celsius.  "
   ]
  },
  {
   "cell_type": "code",
   "execution_count": null,
   "id": "ce2f3a7e-7bf0-4552-8888-8cfef7b5425c",
   "metadata": {},
   "outputs": [],
   "source": []
  }
 ],
 "metadata": {
  "kernelspec": {
   "display_name": "Python 3",
   "language": "python",
   "name": "python3"
  },
  "language_info": {
   "codemirror_mode": {
    "name": "ipython",
    "version": 3
   },
   "file_extension": ".py",
   "mimetype": "text/x-python",
   "name": "python",
   "nbconvert_exporter": "python",
   "pygments_lexer": "ipython3",
   "version": "3.7.3"
  }
 },
 "nbformat": 4,
 "nbformat_minor": 5
}
