{
 "cells": [
  {
   "cell_type": "code",
   "execution_count": null,
   "id": "e015de72-907b-46ee-ba05-086cca7b7c60",
   "metadata": {},
   "outputs": [],
   "source": [
    "#code to calculate U and V from aircraft data using Taylor Series \n",
    "\n",
    "\n",
    "import math as m\n",
    "import numpy as np\n",
    "import matplotlib.pyplot as plt\n",
    "\n"
   ]
  },
  {
   "cell_type": "code",
   "execution_count": null,
   "id": "88de48da-ca47-4fda-a5ea-7c629b865e20",
   "metadata": {},
   "outputs": [],
   "source": [
    "\n",
    "header_length = 2\n",
    "f = open('winds_1.dat','r')\n",
    "numrows = 0\n",
    "for line in f:\n",
    "    numrows += 1\n",
    "f.close()\n",
    "\n",
    "numrows = numrows - header_length"
   ]
  },
  {
   "cell_type": "code",
   "execution_count": null,
   "id": "e347fd32-4957-46d3-99ae-23eca54e910a",
   "metadata": {},
   "outputs": [],
   "source": [
    "#Create numpy arrays \n",
    "tas = np.empty([numrows])\n",
    "heading = np.empty([numrows])\n",
    "beta = np.empty([numrows])\n",
    "groundx = np.empty([numrows])\n",
    "groundy = np.empty([numrows])\n",
    "U = np.empty([numrows])\n",
    "V = np.empty([numrows])\n",
    "Utaylor = np.empty([numrows])\n",
    "Vtaylor = np.empty([numrows])\n",
    "\n",
    "#relative errors\n",
    "relU = np.empty([numrows])\n",
    "relV = np.empty([numrows])"
   ]
  },
  {
   "cell_type": "code",
   "execution_count": null,
   "id": "96f10075-8301-49f2-b645-d1d196c99194",
   "metadata": {},
   "outputs": [],
   "source": [
    "#open files\n",
    "\n",
    "f = open('winds_1.dat','r')\n",
    "fout = open('winds_1.out','w')\n",
    "\n",
    "#skip header\n",
    "for i in range(header_length):\n",
    "    f.readline()\n",
    "#read in data into arrays \n",
    "for i,line in enumerate(f):\n",
    "    columns = line.split()\n",
    "    tas[i] = float(columns[0]) \n",
    "    heading[i] = float(columns[1]) \n",
    "    beta[i] = float(columns[2]) \n",
    "    groundx[i] = float(columns[3]) \n",
    "    groundy[i] = float(columns[4]) \n",
    "f.close()"
   ]
  },
  {
   "cell_type": "code",
   "execution_count": null,
   "id": "38a5b130-f29d-46b0-b3dd-18ae914eaba3",
   "metadata": {
    "scrolled": true,
    "tags": []
   },
   "outputs": [],
   "source": [
    "# calculate U and V \n",
    "for i in range(0,numrows):\n",
    "    x = (heading[i]+beta[i])*m.pi/180 #convert to radians \n",
    "    U[i] = -tas[i]*m.sin(x)+groundx[i]\n",
    "    V[i] = -tas[i]*m.cos(x)+groundy[i]\n",
    "\n",
    "    sin_taylor = x - x**3/(3*2*1) + x**5/(5*4*3*2*1)\n",
    "    cos_taylor = 1 - x**2/2 + x**4/(4*3*2*1)\n",
    "    Utaylor[i] = #add code here \n",
    "    Vtaylor[i] = #add code hre \n",
    "\n",
    "# calculate relative errors and save to output file\n",
    "    #add code here \n",
    "    fout.write(\"%f %e %e\\n\"%(heading[i],relU[i],relV[i]))"
   ]
  },
  {
   "cell_type": "code",
   "execution_count": null,
   "id": "538bdf50-6094-414b-b9cd-a55bc2502d83",
   "metadata": {},
   "outputs": [],
   "source": [
    "#add plot here "
   ]
  }
 ],
 "metadata": {
  "kernelspec": {
   "display_name": "Python 3",
   "language": "python",
   "name": "python3"
  },
  "language_info": {
   "codemirror_mode": {
    "name": "ipython",
    "version": 3
   },
   "file_extension": ".py",
   "mimetype": "text/x-python",
   "name": "python",
   "nbconvert_exporter": "python",
   "pygments_lexer": "ipython3",
   "version": "3.7.3"
  }
 },
 "nbformat": 4,
 "nbformat_minor": 5
}
